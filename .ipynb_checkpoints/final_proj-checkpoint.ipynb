{
 "cells": [
  {
   "cell_type": "code",
   "execution_count": 1,
   "metadata": {
    "collapsed": true
   },
   "outputs": [],
   "source": [
    "import unicodecsv\n",
    "import numpy as np\n",
    "import pandas as pd\n",
    "import seaborn as sns\n",
    "%matplotlib inline\n",
    "import matplotlib.pyplot as plt\n",
    "from collections import defaultdict\n"
   ]
  },
  {
   "cell_type": "code",
   "execution_count": 2,
   "metadata": {
    "collapsed": true
   },
   "outputs": [],
   "source": [
    "def read_csv(filename):\n",
    "    # rb mode means the file will be opened for reading, b flag changes the format how the file is read\n",
    "    with open(filename,'rb') as f:\n",
    "        reader = unicodecsv.DictReader(f)\n",
    "        return list(reader)\n",
    "\n",
    "\n",
    "salaries = read_csv('Salaries.csv')\n",
    "schools = read_csv('Schools.csv')\n",
    "pitching = read_csv('Pitching.csv')\n"
   ]
  },
  {
   "cell_type": "code",
   "execution_count": 3,
   "metadata": {
    "collapsed": false
   },
   "outputs": [],
   "source": [
    "from datetime import datetime as dt\n",
    "\n",
    "# Takes a date as a string, and returns a Python datetime object.\n",
    "# If there is no date given, returns None\n",
    "def parse_date(date):\n",
    "    if date == '':\n",
    "        return None\n",
    "    else:\n",
    "        return dt.strptime(date, '%Y-%m-%d')\n",
    "# Takes a string which is either an empty string or represents an integer,\n",
    "# and returns an int or None.\n",
    "def parse_maybe_int(i):\n",
    "    if i == '':\n",
    "        return None\n",
    "    else:\n",
    "        return int(i)\n",
    "    \n"
   ]
  },
  {
   "cell_type": "code",
   "execution_count": 4,
   "metadata": {
    "collapsed": true
   },
   "outputs": [],
   "source": [
    "# CLEANING DATA\n",
    "\n",
    "# Changing the datatypes for each file\n",
    "for salary in salaries:\n",
    "    salary['yearID'] = parse_maybe_int(salary['yearID'])\n",
    "    salary['salary'] = parse_maybe_int(salary['salary'])\n",
    "\n",
    "\n",
    "\n",
    "for pitching_record in pitching:\n",
    "    pitching_record['yearID'] = parse_maybe_int(pitching_record['yearID'])\n",
    "    pitching_record['stint'] = parse_maybe_int(pitching_record['stint'])\n",
    "    pitching_record['W'] = parse_maybe_int(pitching_record['W'])\n",
    "    pitching_record['L'] = parse_maybe_int(pitching_record['L'])\n",
    "    pitching_record['G'] = parse_maybe_int(pitching_record['G'])\n",
    "    pitching_record['GS'] = parse_maybe_int(pitching_record['GS'])\n",
    "    pitching_record['CG'] = parse_maybe_int(pitching_record['CG'])\n",
    "    pitching_record['SHO'] = parse_maybe_int(pitching_record['SHO'])\n",
    "    pitching_record['SV'] = parse_maybe_int(pitching_record['SV'])\n",
    "    pitching_record['IPouts'] = parse_maybe_int(pitching_record['IPouts'])\n",
    "    pitching_record['H'] = parse_maybe_int(pitching_record['H'])\n",
    "    pitching_record['ER'] = parse_maybe_int(pitching_record['ER'])\n",
    "    pitching_record['HR'] = parse_maybe_int(pitching_record['HR'])\n",
    "    pitching_record['BB'] = parse_maybe_int(pitching_record['BB'])\n",
    "\n",
    "all_salaries = []\n",
    "for salary in salaries:\n",
    "        all_salaries.append(salary['salary'])\n"
   ]
  },
  {
   "cell_type": "code",
   "execution_count": 5,
   "metadata": {
    "collapsed": true
   },
   "outputs": [],
   "source": [
    "#Summarize the given data\n",
    "def describe_data(data):\n",
    "    print 'Mean:',np.mean(data)\n",
    "    print 'Standard Deviation:',np.std(data)\n",
    "    print 'Minimum:',np.min(data)\n",
    "    print 'Maximum:',np.max(data)\n",
    "\n",
    "# Summarize and plot graph\n",
    "def describe_data_graph(data):\n",
    "    print 'Mean:',np.mean(data)\n",
    "    print 'Standard Deviation:',np.std(data)\n",
    "    print 'Minimum:',np.min(data)\n",
    "    print 'Maximum:',np.max(data)\n",
    "    plt.hist(data)\n",
    "    plt.show()\n",
    "\n"
   ]
  },
  {
   "cell_type": "code",
   "execution_count": 6,
   "metadata": {
    "collapsed": false
   },
   "outputs": [],
   "source": [
    "\n",
    "# Group data by playerID\n",
    "\n",
    "def group_data(data, key_name):\n",
    "    grouped_data = defaultdict(list)\n",
    "    for data_point in data:\n",
    "        key = data_point[key_name]\n",
    "        grouped_data[key].append(data_point)\n",
    "    return grouped_data\n",
    "\n",
    "\n",
    "def sum_grouped_items(grouped_data, field_name):\n",
    "    summed_data = {}\n",
    "    for key, data_points in grouped_data.items():\n",
    "        total = 0\n",
    "        for data_point in data_points:\n",
    "            total += data_point[field_name]\n",
    "        summed_data[key] = total\n",
    "    return summed_data\n",
    "\n",
    "\n",
    "\n",
    "\n",
    "# Create two lists of data,\n",
    "#  - one for players with more than 75th percentile salary\n",
    "#  - one for players with less than 25th percentile salary\n",
    "\n",
    "high_salary_players = set()\n",
    "for player in salaries:\n",
    "    if player['salary'] >= np.percentile(all_salaries,75):\n",
    "        high_salary_players.add(player['playerID'])\n",
    "# print(high_salary_players)\n",
    "\n",
    "low_salary_players = set()\n",
    "for player in salaries:\n",
    "    if player['salary'] <= np.percentile(all_salaries,25):\n",
    "        low_salary_players.add(player['playerID'])\n",
    "# print(low_salary_players)\n"
   ]
  },
  {
   "cell_type": "code",
   "execution_count": 7,
   "metadata": {
    "collapsed": true
   },
   "outputs": [],
   "source": [
    "# Group data by playerID (high salary)\n",
    "pitching_high_salary_rows = []\n",
    "\n",
    "for pitching_record in pitching:\n",
    "    if pitching_record['playerID'] in high_salary_players:\n",
    "        pitching_high_salary_rows.append(pitching_record)\n",
    "pitching_high_salary_rows = pd.Series(pitching_high_salary_rows)\n",
    "\n",
    "pitching_high_salary_by_id  = group_data(pitching_high_salary_rows,'playerID')\n",
    "\n",
    "\n",
    "\n",
    "# Group data by playerID (low salary)\n",
    "pitching_low_salary_rows = []\n",
    "for pitching_record in pitching:\n",
    "    if pitching_record['playerID'] in low_salary_players:\n",
    "        pitching_low_salary_rows.append(pitching_record)\n",
    "pitching_low_salary_rows = pd.Series(pitching_low_salary_rows)\n",
    "\n",
    "pitching_low_salary_by_id = group_data(pitching_low_salary_rows,'playerID')"
   ]
  },
  {
   "cell_type": "code",
   "execution_count": 8,
   "metadata": {
    "collapsed": false
   },
   "outputs": [
    {
     "name": "stdout",
     "output_type": "stream",
     "text": [
      "High salary players (G) Stats\n",
      "_______________________\n",
      "Mean: 362.449118046\n",
      "Standard Deviation: 222.591302268\n",
      "Minimum: 1\n",
      "Maximum: 1178\n",
      "None\n",
      "Low salary players (G) Stats\n",
      "______________________\n",
      "Mean: 223.045485872\n",
      "Standard Deviation: 220.77894024\n",
      "Minimum: 1\n",
      "Maximum: 1178\n",
      "None\n",
      "High salary players (Hits)\n",
      "__________________________\n",
      "Mean: 1079.44369064\n",
      "Standard Deviation: 824.193345136\n",
      "Minimum: 0\n",
      "Maximum: 4726\n",
      "None\n",
      "Low salary players (Hits)\n",
      "_________________________\n",
      "Mean: 610.197794624\n",
      "Standard Deviation: 743.11477865\n",
      "Minimum: 0\n",
      "Maximum: 4783\n",
      "None\n",
      "High salary players (Homeruns)\n",
      "__________________________\n",
      "Mean: 116.565807327\n",
      "Standard Deviation: 88.1196073985\n",
      "Minimum: 0\n",
      "Maximum: 522\n",
      "None\n",
      "Low salary players (Homeruns)\n",
      "__________________________\n",
      "Mean: 64.4141971054\n",
      "Standard Deviation: 77.0928270001\n",
      "Minimum: 0\n",
      "Maximum: 522\n",
      "None\n"
     ]
    }
   ],
   "source": [
    "# Stats for games played in pitching with players in highest_salary list\n",
    "print 'High salary players (G) Stats'\n",
    "print '_______________________'\n",
    "pitching_high_salary_G = sum_grouped_items(pitching_high_salary_by_id, 'G')\n",
    "print(describe_data(pitching_high_salary_G.values()))\n",
    "\n",
    "# Stats for games played in pitching with players in lowest_salary list\n",
    "print 'Low salary players (G) Stats'\n",
    "print '______________________'\n",
    "pitching_low_salary_G = sum_grouped_items(pitching_low_salary_by_id,'G')\n",
    "print(describe_data(pitching_low_salary_G.values()))\n",
    "\n",
    "\n",
    "\n",
    "print 'High salary players (Hits)'\n",
    "print '__________________________'\n",
    "pitching_high_salary_H = sum_grouped_items(pitching_high_salary_by_id,'H')\n",
    "print(describe_data(pitching_high_salary_H.values()))\n",
    "\n",
    "print 'Low salary players (Hits)'\n",
    "print '_________________________'\n",
    "pitching_low_salary_H = sum_grouped_items(pitching_low_salary_by_id,'H')\n",
    "print(describe_data(pitching_low_salary_H.values()))\n",
    "\n",
    "\n",
    "\n",
    "print 'High salary players (Homeruns)'\n",
    "print '__________________________'\n",
    "pitching_high_salary_HR = sum_grouped_items(pitching_high_salary_by_id,'HR')\n",
    "print(describe_data(pitching_high_salary_HR.values()))\n",
    "\n",
    "print 'Low salary players (Homeruns)'\n",
    "print '__________________________'\n",
    "pitching_low_salary_HR = sum_grouped_items(pitching_low_salary_by_id,'HR')\n",
    "print(describe_data(pitching_low_salary_HR.values()))"
   ]
  },
  {
   "cell_type": "code",
   "execution_count": 11,
   "metadata": {
    "collapsed": false
   },
   "outputs": [
    {
     "data": {
      "text/plain": [
       "<matplotlib.text.Text at 0x12a4ac0d0>"
      ]
     },
     "execution_count": 11,
     "metadata": {},
     "output_type": "execute_result"
    },
    {
     "data": {
      "image/png": "[encoded data removed]",
      "text/plain": [
       "<matplotlib.figure.Figure at 0x106461550>"
      ]
     },
     "metadata": {},
     "output_type": "display_data"
    }
   ],
   "source": [
    "# plt.hist(pitching_high_salary_G.values())\n",
    "# plt.xlabel('Number of games played')\n",
    "# plt.title('Distribution of games played by players with high salary')\n",
    "\n",
    "plt.hist(pitching_high_salary_H.values())\n",
    "plt.xlabel('Number of hits')\n",
    "plt.title('Distribution of hits by players with high salary')\n",
    "\n",
    "\n"
   ]
  },
  {
   "cell_type": "code",
   "execution_count": 10,
   "metadata": {
    "collapsed": false
   },
   "outputs": [
    {
     "data": {
      "text/plain": [
       "<matplotlib.text.Text at 0x12aa74310>"
      ]
     },
     "execution_count": 10,
     "metadata": {},
     "output_type": "execute_result"
    },
    {
     "data": {
      "image/png": "[encoded data removed]",
      "text/plain": [
       "<matplotlib.figure.Figure at 0x1195943d0>"
      ]
     },
     "metadata": {},
     "output_type": "display_data"
    }
   ],
   "source": [
    "# plt.hist(pitching_low_salary_G.values())\n",
    "# plt.xlabel('Number of games played')\n",
    "# plt.title('Distribution of games played by players with low salary')\n",
    "\n",
    "plt.hist(pitching_low_salary_H.values())\n",
    "plt.xlabel('Number of hits')\n",
    "plt.title('Distribution of hits by players with low salary')\n"
   ]
  },
  {
   "cell_type": "code",
   "execution_count": 15,
   "metadata": {
    "collapsed": false
   },
   "outputs": [
    {
     "name": "stdout",
     "output_type": "stream",
     "text": [
      "Pearson's r for salary and total votes received\n",
      "[[ 1.         0.1328382]\n",
      " [ 0.1328382  1.       ]]\n",
      "Pearson's r for salary and points won\n",
      "[[ 1.          0.14387041]\n",
      " [ 0.14387041  1.        ]]\n",
      "Pearson's r for hits and points won\n",
      "[[ 1.          0.24156375]\n",
      " [ 0.24156375  1.        ]]\n",
      "0          870000\n",
      "1          870000\n",
      "2          870000\n",
      "3          870000\n",
      "4          870000\n",
      "5          870000\n",
      "6          870000\n",
      "7          870000\n",
      "8          870000\n",
      "9          870000\n",
      "10         870000\n",
      "11         870000\n",
      "12         880000\n",
      "13         880000\n",
      "14         880000\n",
      "15         880000\n",
      "16         880000\n",
      "17         880000\n",
      "18         880000\n",
      "19         880000\n",
      "20         880000\n",
      "21         880000\n",
      "22         880000\n",
      "23         880000\n",
      "24         890000\n",
      "25         890000\n",
      "26         890000\n",
      "27         890000\n",
      "28         890000\n",
      "29         890000\n",
      "           ...   \n",
      "134014     508500\n",
      "134015     508500\n",
      "134016     508500\n",
      "134017     508500\n",
      "134018     517000\n",
      "134019     517000\n",
      "134020     517000\n",
      "134021     517000\n",
      "134022     509500\n",
      "134023     509500\n",
      "134024     515000\n",
      "134025     515000\n",
      "134026     509500\n",
      "134027     509500\n",
      "134028     509500\n",
      "134029     510800\n",
      "134030     510800\n",
      "134031     508700\n",
      "134032     508700\n",
      "134033     508700\n",
      "134034    1021600\n",
      "134035    1021600\n",
      "134036     514700\n",
      "134037     514700\n",
      "134038     517300\n",
      "134039     514200\n",
      "134040     514200\n",
      "134041     525000\n",
      "134042     512800\n",
      "134043     512800\n",
      "Name: salary, dtype: int64\n"
     ]
    }
   ],
   "source": [
    "\n",
    "# Pandas combine tables\n",
    "hallOfFame = pd.read_csv('HallOfFame.csv')\n",
    "salaries = pd.read_csv('Salaries.csv')\n",
    "\n",
    "\n",
    "# Join two tables on id\n",
    "def combine_dfs(data1, data2):\n",
    "    return data1.merge(data2, on = ['playerID'], how= \"inner\")\n",
    "\n",
    "\n",
    "hallOfFame_salaries_combined = combine_dfs(hallOfFame,salaries)\n",
    "\n",
    "print \"Pearson's r for salary and total votes received\"\n",
    "print(np.corrcoef(hallOfFame_salaries_combined['salary'],hallOfFame_salaries_combined['votes']))\n",
    "\n",
    "awardsSharePlayers = pd.read_csv('AwardsSharePlayers.csv')\n",
    "awards_salaries_combined = combine_dfs(awardsSharePlayers,salaries)\n",
    "\n",
    "print \"Pearson's r for salary and points won\"\n",
    "print(np.corrcoef(awards_salaries_combined['salary'],awards_salaries_combined['pointsWon']))\n",
    "\n"
   ]
  },
  {
   "cell_type": "code",
   "execution_count": null,
   "metadata": {
    "collapsed": true
   },
   "outputs": [],
   "source": [
    "college_playing = pd.read_csv('CollegePlaying.csv')\n",
    "\n",
    "\n",
    "# print(college_playing['schoolID'])\n",
    "college_count = college_playing['schoolID'].value_counts()\n",
    "\n",
    "\n",
    "college_count[:20].plot(kind='barh',rot =0)\n",
    "plt.title('Distribution of colleges players attended ')\n",
    "plt.show()"
   ]
  },
  {
   "cell_type": "code",
   "execution_count": null,
   "metadata": {
    "collapsed": true
   },
   "outputs": [],
   "source": []
  }
 ],
 "metadata": {
  "kernelspec": {
   "display_name": "Python 2",
   "language": "python",
   "name": "python2"
  },
  "language_info": {
   "codemirror_mode": {
    "name": "ipython",
    "version": 2
   },
   "file_extension": ".py",
   "mimetype": "text/x-python",
   "name": "python",
   "nbconvert_exporter": "python",
   "pygments_lexer": "ipython2",
   "version": "2.7.11"
  }
 },
 "nbformat": 4,
 "nbformat_minor": 0
}
